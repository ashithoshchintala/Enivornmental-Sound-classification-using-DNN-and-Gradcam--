{
  "cells": [
    {
      "cell_type": "code",
      "execution_count": 7,
      "metadata": {
        "colab": {
          "base_uri": "https://localhost:8080/"
        },
        "id": "bOaktDS5NGQN",
        "outputId": "d26b48c9-e9b0-4a51-f81a-3572d4d33479"
      },
      "outputs": [
        {
          "ename": "ModuleNotFoundError",
          "evalue": "No module named 'google'",
          "output_type": "error",
          "traceback": [
            "\u001b[1;31m---------------------------------------------------------------------------\u001b[0m",
            "\u001b[1;31mModuleNotFoundError\u001b[0m                       Traceback (most recent call last)",
            "Cell \u001b[1;32mIn[7], line 1\u001b[0m\n\u001b[1;32m----> 1\u001b[0m \u001b[38;5;28;01mfrom\u001b[39;00m \u001b[38;5;21;01mgoogle\u001b[39;00m\u001b[38;5;21;01m.\u001b[39;00m\u001b[38;5;21;01mcolab\u001b[39;00m \u001b[38;5;28;01mimport\u001b[39;00m drive\n\u001b[0;32m      2\u001b[0m drive\u001b[38;5;241m.\u001b[39mmount(\u001b[38;5;124m'\u001b[39m\u001b[38;5;124m/content/drive\u001b[39m\u001b[38;5;124m'\u001b[39m)\n",
            "\u001b[1;31mModuleNotFoundError\u001b[0m: No module named 'google'"
          ]
        }
      ],
      "source": [
        "from google.colab import drive\n",
        "drive.mount('/content/drive')"
      ]
    },
    {
      "cell_type": "code",
      "execution_count": null,
      "metadata": {
        "id": "UWMPyp1VM5AC"
      },
      "outputs": [],
      "source": [
        "import csv\n",
        "import shutil\n",
        "import os"
      ]
    },
    {
      "cell_type": "code",
      "execution_count": null,
      "metadata": {
        "id": "PlzWxydjNRla"
      },
      "outputs": [],
      "source": [
        "# Path to the CSV file\n",
        "csv_file_path = \"/content/drive/MyDrive/UrbanSound8K.csv\"\n",
        "\n",
        "# Root directory containing the 10 folders with files\n",
        "root_directory = \"/content/drive/MyDrive/Spect\""
      ]
    },
    {
      "cell_type": "code",
      "execution_count": null,
      "metadata": {
        "id": "qpsAzzKfNftL"
      },
      "outputs": [],
      "source": [
        "with open(csv_file_path, 'r') as csv_file:\n",
        "    csv_reader = csv.DictReader(csv_file)\n",
        "    for row in csv_reader:\n",
        "        foldname = row['fold']\n",
        "        filename = row['slice_file_name']\n",
        "        class_folder = row['class']\n",
        "\n",
        "        # Source file path\n",
        "        source_path = os.path.join(root_directory+\"/fold\"+foldname, filename)\n",
        "\n",
        "        # Destination folder path\n",
        "        destination_folder = os.path.join(root_directory, class_folder)\n",
        "\n",
        "        # Ensure the destination folder exists, create if not\n",
        "        os.makedirs(destination_folder, exist_ok=True)\n",
        "\n",
        "        # Move the file to the destination folder\n",
        "        shutil.move(source_path, os.path.join(destination_folder, filename))"
      ]
    }
  ],
  "metadata": {
    "accelerator": "GPU",
    "colab": {
      "gpuType": "T4",
      "provenance": []
    },
    "kernelspec": {
      "display_name": "Python 3",
      "name": "python3"
    },
    "language_info": {
      "codemirror_mode": {
        "name": "ipython",
        "version": 3
      },
      "file_extension": ".py",
      "mimetype": "text/x-python",
      "name": "python",
      "nbconvert_exporter": "python",
      "pygments_lexer": "ipython3",
      "version": "3.12.4"
    }
  },
  "nbformat": 4,
  "nbformat_minor": 0
}
